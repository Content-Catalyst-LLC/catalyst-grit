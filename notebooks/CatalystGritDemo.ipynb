{
  "cells": [
    {
      "cell_type": "markdown",
      "metadata": {},
      "source": [
        "# Catalyst Grit Demo\n",
        "Quick demo of the metrics helpers."
      ]
    },
    {
      "cell_type": "code",
      "execution_count": null,
      "metadata": {},
      "outputs": [],
      "source": [
        "from project import load_blocks_csv, load_topics_csv, deliberate_practice_ratio, consistency_of_interests\n",
        "blocks = load_blocks_csv('../sample_data/sample_blocks.csv')\n",
        "topics = load_topics_csv('../sample_data/sample_topics.csv')\n",
        "print('practice ratio:', round(deliberate_practice_ratio(blocks),4))\n",
        "print('consistency of interests:', round(consistency_of_interests(topics),4))\n"
      ]
    }
  ],
  "metadata": {
    "kernelspec": {
      "display_name": "Python 3",
      "language": "python",
      "name": "python3"
    },
    "language_info": {
      "name": "python",
      "version": "3.x"
    }
  },
  "nbformat": 4,
  "nbformat_minor": 5
}